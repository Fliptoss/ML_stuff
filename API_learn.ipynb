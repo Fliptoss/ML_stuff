{
  "nbformat": 4,
  "nbformat_minor": 0,
  "metadata": {
    "colab": {
      "provenance": [],
      "authorship_tag": "ABX9TyMNhD/Brj1HvEuy59Dp8yWY",
      "include_colab_link": true
    },
    "kernelspec": {
      "name": "python3",
      "display_name": "Python 3"
    },
    "language_info": {
      "name": "python"
    }
  },
  "cells": [
    {
      "cell_type": "markdown",
      "metadata": {
        "id": "view-in-github",
        "colab_type": "text"
      },
      "source": [
        "<a href=\"https://colab.research.google.com/github/Fliptoss/ML_stuff/blob/main/API_learn.ipynb\" target=\"_parent\"><img src=\"https://colab.research.google.com/assets/colab-badge.svg\" alt=\"Open In Colab\"/></a>"
      ]
    },
    {
      "cell_type": "code",
      "execution_count": 2,
      "metadata": {
        "colab": {
          "base_uri": "https://localhost:8080/"
        },
        "id": "8x9cujwaO-ul",
        "outputId": "07127f0d-c8ad-4696-fe32-3213f4f8350e"
      },
      "outputs": [
        {
          "output_type": "stream",
          "name": "stdout",
          "text": [
            "Requirement already satisfied: requests in /usr/local/lib/python3.11/dist-packages (2.32.3)\n",
            "Requirement already satisfied: charset-normalizer<4,>=2 in /usr/local/lib/python3.11/dist-packages (from requests) (3.4.2)\n",
            "Requirement already satisfied: idna<4,>=2.5 in /usr/local/lib/python3.11/dist-packages (from requests) (3.10)\n",
            "Requirement already satisfied: urllib3<3,>=1.21.1 in /usr/local/lib/python3.11/dist-packages (from requests) (2.4.0)\n",
            "Requirement already satisfied: certifi>=2017.4.17 in /usr/local/lib/python3.11/dist-packages (from requests) (2025.4.26)\n"
          ]
        }
      ],
      "source": [
        "pip install requests"
      ]
    },
    {
      "cell_type": "code",
      "source": [
        "import requests"
      ],
      "metadata": {
        "id": "gRKNJOSJPE1G"
      },
      "execution_count": 3,
      "outputs": []
    },
    {
      "cell_type": "code",
      "source": [
        "# Ask a website for information\n",
        "\n",
        "response = requests.get(\"https://jsonplaceholder.typicode.com/posts/1\")"
      ],
      "metadata": {
        "id": "TkPx7TE-PNRm"
      },
      "execution_count": 6,
      "outputs": []
    },
    {
      "cell_type": "code",
      "source": [
        "print(response.json())"
      ],
      "metadata": {
        "colab": {
          "base_uri": "https://localhost:8080/"
        },
        "id": "7vXM-P2QPXye",
        "outputId": "d92da132-3e86-47e3-aa6e-729cd59a7e6a"
      },
      "execution_count": 7,
      "outputs": [
        {
          "output_type": "stream",
          "name": "stdout",
          "text": [
            "{'userId': 1, 'id': 1, 'title': 'sunt aut facere repellat provident occaecati excepturi optio reprehenderit', 'body': 'quia et suscipit\\nsuscipit recusandae consequuntur expedita et cum\\nreprehenderit molestiae ut ut quas totam\\nnostrum rerum est autem sunt rem eveniet architecto'}\n"
          ]
        }
      ]
    },
    {
      "cell_type": "code",
      "source": [
        "response.text"
      ],
      "metadata": {
        "colab": {
          "base_uri": "https://localhost:8080/",
          "height": 89
        },
        "id": "OeNTBIE-Pa2a",
        "outputId": "d3bfdb24-52e0-442d-cc84-817cbb9c4c45"
      },
      "execution_count": 8,
      "outputs": [
        {
          "output_type": "execute_result",
          "data": {
            "text/plain": [
              "'{\\n  \"userId\": 1,\\n  \"id\": 1,\\n  \"title\": \"sunt aut facere repellat provident occaecati excepturi optio reprehenderit\",\\n  \"body\": \"quia et suscipit\\\\nsuscipit recusandae consequuntur expedita et cum\\\\nreprehenderit molestiae ut ut quas totam\\\\nnostrum rerum est autem sunt rem eveniet architecto\"\\n}'"
            ],
            "application/vnd.google.colaboratory.intrinsic+json": {
              "type": "string"
            }
          },
          "metadata": {},
          "execution_count": 8
        }
      ]
    },
    {
      "cell_type": "code",
      "source": [
        "response.status_code"
      ],
      "metadata": {
        "colab": {
          "base_uri": "https://localhost:8080/"
        },
        "id": "3OzdqjcwPjKd",
        "outputId": "d9afada3-ea25-4dfe-855a-b15e6b1dae3d"
      },
      "execution_count": 9,
      "outputs": [
        {
          "output_type": "execute_result",
          "data": {
            "text/plain": [
              "200"
            ]
          },
          "metadata": {},
          "execution_count": 9
        }
      ]
    },
    {
      "cell_type": "code",
      "source": [
        "response1 = requests.get(\"https://www.youtube.com/\")"
      ],
      "metadata": {
        "id": "oyQTGKVWPsuo"
      },
      "execution_count": 10,
      "outputs": []
    },
    {
      "cell_type": "code",
      "source": [
        "response1.status_code"
      ],
      "metadata": {
        "colab": {
          "base_uri": "https://localhost:8080/"
        },
        "id": "--2O9C3YQJQx",
        "outputId": "09806b68-5aa3-4214-c640-9f17c8d7fa46"
      },
      "execution_count": 11,
      "outputs": [
        {
          "output_type": "execute_result",
          "data": {
            "text/plain": [
              "200"
            ]
          },
          "metadata": {},
          "execution_count": 11
        }
      ]
    },
    {
      "cell_type": "code",
      "source": [
        "url = \"https://jsonplaceholder.typicode.com/posts\"\n",
        "payload = {\n",
        "    \"title\": \"Learn APIs\",\n",
        "    \"body\": \"POST example with requests\",\n",
        "    \"userId\": 1\n",
        "}\n",
        "response = requests.post(url, json=payload)\n",
        "print(\"Status Code:\", response.status_code)\n",
        "print(\"Response JSON:\", response.json())"
      ],
      "metadata": {
        "colab": {
          "base_uri": "https://localhost:8080/"
        },
        "id": "EjGVugnDQLh6",
        "outputId": "7758f9ab-788b-4c79-e2a7-01783b11333c"
      },
      "execution_count": 13,
      "outputs": [
        {
          "output_type": "stream",
          "name": "stdout",
          "text": [
            "Status Code: 201\n",
            "Response JSON: {'title': 'Learn APIs', 'body': 'POST example with requests', 'userId': 1, 'id': 101}\n"
          ]
        }
      ]
    },
    {
      "cell_type": "code",
      "source": [
        "params = {'id': 10}\n",
        "response = requests.get(\"https://jsonplaceholder.typicode.com/posts\",params=params)\n",
        "# print(response.json())\n",
        "print(response.text)"
      ],
      "metadata": {
        "colab": {
          "base_uri": "https://localhost:8080/"
        },
        "id": "niLvsebdSZLT",
        "outputId": "30b31ca8-8bf8-4ba5-903b-0f8a7de90003"
      },
      "execution_count": 14,
      "outputs": [
        {
          "output_type": "stream",
          "name": "stdout",
          "text": [
            "[\n",
            "  {\n",
            "    \"userId\": 1,\n",
            "    \"id\": 10,\n",
            "    \"title\": \"optio molestias id quia eum\",\n",
            "    \"body\": \"quo et expedita modi cum officia vel magni\\ndoloribus qui repudiandae\\nvero nisi sit\\nquos veniam quod sed accusamus veritatis error\"\n",
            "  }\n",
            "]\n"
          ]
        }
      ]
    },
    {
      "cell_type": "code",
      "source": [
        "import requests\n",
        "\n",
        "# Step 1: Set the base URL\n",
        "url = \"https://api.open-meteo.com/v1/forecast\"\n",
        "\n",
        "# Step 2: Set parameters (example: Toronto)\n",
        "params = {\n",
        "    \"latitude\": 23.8041,\n",
        "    \"longitude\": 90.4152,\n",
        "    \"current_weather\": True\n",
        "}\n",
        "\n",
        "# Step 3: Make the GET request\n",
        "response = requests.get(url, params=params)\n",
        "\n",
        "# Step 4: Check response and print\n",
        "if response.status_code == 200:\n",
        "    data = response.json()\n",
        "    weather = data[\"current_weather\"]\n",
        "    print(f\" Weather in Dhaka:\")\n",
        "    print(f\"Temperature: {weather['temperature']}°C\")\n",
        "    print(f\"Windspeed: {weather['windspeed']} km/h\")\n",
        "    print(f\"Time: {weather['time']}\")\n",
        "else:\n",
        "    print(\" Error:\", response.status_code)"
      ],
      "metadata": {
        "colab": {
          "base_uri": "https://localhost:8080/"
        },
        "id": "1G1O2NInVsUc",
        "outputId": "b29296dc-ac4b-4c0d-cd29-786bda107159"
      },
      "execution_count": 15,
      "outputs": [
        {
          "output_type": "stream",
          "name": "stdout",
          "text": [
            " Weather in Dhaka:\n",
            "Temperature: 28.2°C\n",
            "Windspeed: 3.4 km/h\n",
            "Time: 2025-05-13T16:00\n"
          ]
        }
      ]
    },
    {
      "cell_type": "code",
      "source": [
        "import requests\n",
        "from bs4 import BeautifulSoup\n",
        "import csv\n",
        "import json\n",
        "# Step 1: Fetch the page\n",
        "url = \"http://quotes.toscrape.com\"\n",
        "response = requests.get(url)\n",
        "soup = BeautifulSoup(response.text, \"html.parser\")\n",
        "# Step 2: Extract quotes and authors\n",
        "quotes_data = []\n",
        "quotes = soup.find_all(\"div\", class_=\"quote\")\n",
        "for quote in quotes:\n",
        "    text = quote.find(\"span\", class_=\"text\").text.strip()\n",
        "    author = quote.find(\"small\", class_=\"author\").text.strip()\n",
        "    quotes_data.append({\"quote\": text, \"author\": author})\n",
        "\n",
        "\n",
        "# Step 3: Save to JSON\n",
        "with open(\"quotes.json\", \"w\", encoding=\"utf-8\") as json_file:\n",
        "    json.dump(quotes_data, json_file, indent=4, ensure_ascii=False)\n",
        "    print(\" Saved to quotes.json\")"
      ],
      "metadata": {
        "colab": {
          "base_uri": "https://localhost:8080/"
        },
        "id": "tDSik4s5ZRCW",
        "outputId": "b5286813-7c52-4272-f658-c832ba60517a"
      },
      "execution_count": 16,
      "outputs": [
        {
          "output_type": "stream",
          "name": "stdout",
          "text": [
            " Saved to quotes.json\n"
          ]
        }
      ]
    },
    {
      "cell_type": "code",
      "source": [],
      "metadata": {
        "id": "ecp9sfhmlJfI"
      },
      "execution_count": null,
      "outputs": []
    }
  ]
}